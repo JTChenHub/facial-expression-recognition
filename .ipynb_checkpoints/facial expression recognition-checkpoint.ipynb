{
 "cells": [
  {
   "cell_type": "code",
   "execution_count": 1,
   "metadata": {
    "collapsed": true
   },
   "outputs": [],
   "source": [
    "import gzip\n",
    "import os\n",
    "def un_gz(file_name):\n",
    "    \"\"\"ungz zip file\"\"\"\n",
    "    f_name = file_name.replace(\".gz\", \"\")\n",
    "    #获取文件的名称，去掉\n",
    "    g_file = gzip.GzipFile(file_name)\n",
    "    #创建gzip对象\n",
    "    open(f_name, \"w+\").write(g_file.read())\n",
    "    #gzip对象用read()打开后，写入open()建立的文件里。\n",
    "    g_file.close()\n",
    "    #关闭gzip对象"
   ]
  },
  {
   "cell_type": "code",
   "execution_count": 4,
   "metadata": {},
   "outputs": [],
   "source": [
    "un_gz('fer2013.tar.gz')"
   ]
  },
  {
   "cell_type": "code",
   "execution_count": 6,
   "metadata": {},
   "outputs": [],
   "source": [
    "import tarfile\n",
    "def un_tar(file_name):\n",
    "    \"\"\"untar zip file\"\"\"\n",
    "    tar = tarfile.open(file_name)\n",
    "    names = tar.getnames()\n",
    "    if os.path.isdir(file_name + \"_files\"):\n",
    "        pass\n",
    "    else:\n",
    "        os.mkdir(file_name + \"_files\")\n",
    "    #因为解压后是很多文件，预先建立同名目录\n",
    "    for name in names:\n",
    "        tar.extract(name, file_name + \"_files/\")\n",
    "    tar.close()"
   ]
  },
  {
   "cell_type": "code",
   "execution_count": 7,
   "metadata": {
    "collapsed": true
   },
   "outputs": [],
   "source": [
    "un_tar('fer2013.tar')"
   ]
  },
  {
   "cell_type": "code",
   "execution_count": null,
   "metadata": {},
   "outputs": [],
   "source": [
    "import pandas as pd  \n",
    "import numpy as np  \n",
    "  \n",
    "Y = []\n",
    "X = []\n",
    "first = True\n",
    "for line in open('./fer2013.csv'):\n",
    "    if first:\n",
    "        first = False\n",
    "    else:\n",
    "        row = line.split(',')\n",
    "        Y.append(int(row[0]))\n",
    "        X.append([int(p) for p in row[1].split()])\n",
    "X, Y = np.array(X) / 255.0, np.array(Y)"
   ]
  },
  {
   "cell_type": "code",
   "execution_count": 12,
   "metadata": {},
   "outputs": [
    {
     "name": "stdout",
     "output_type": "stream",
     "text": [
      "(35887, 2304)\n",
      "2304\n",
      "(35887,)\n"
     ]
    }
   ],
   "source": [
    "print(X.shape)\n",
    "print(48*48)\n",
    "print(Y.shape)"
   ]
  },
  {
   "cell_type": "code",
   "execution_count": 20,
   "metadata": {},
   "outputs": [
    {
     "data": {
      "text/plain": [
       "<matplotlib.image.AxesImage at 0x2be4f2d0>"
      ]
     },
     "execution_count": 20,
     "metadata": {},
     "output_type": "execute_result"
    },
    {
     "data": {
      "image/png": "[encoded data removed]",
      "text/plain": [
       "<matplotlib.figure.Figure at 0x2bf07190>"
      ]
     },
     "metadata": {},
     "output_type": "display_data"
    }
   ],
   "source": [
    "import matplotlib.pyplot as plt\n",
    "%matplotlib inline\n",
    "# Example of a picture\n",
    "index = 10\n",
    "plt.imshow(X[index].reshape([48,48]),cmap ='gray')"
   ]
  },
  {
   "cell_type": "code",
   "execution_count": null,
   "metadata": {
    "collapsed": true
   },
   "outputs": [],
   "source": []
  }
 ],
 "metadata": {
  "kernelspec": {
   "display_name": "Python 3",
   "language": "python",
   "name": "python3"
  },
  "language_info": {
   "codemirror_mode": {
    "name": "ipython",
    "version": 3
   },
   "file_extension": ".py",
   "mimetype": "text/x-python",
   "name": "python",
   "nbconvert_exporter": "python",
   "pygments_lexer": "ipython3",
   "version": "3.6.3"
  }
 },
 "nbformat": 4,
 "nbformat_minor": 2
}
