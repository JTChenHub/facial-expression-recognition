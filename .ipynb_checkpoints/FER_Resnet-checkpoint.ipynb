{
 "cells": [
  {
   "cell_type": "code",
   "execution_count": 1,
   "metadata": {},
   "outputs": [
    {
     "name": "stderr",
     "output_type": "stream",
     "text": [
      "D:\\ProgramData\\Anaconda3\\envs\\tensorflow\\lib\\site-packages\\h5py\\__init__.py:36: FutureWarning: Conversion of the second argument of issubdtype from `float` to `np.floating` is deprecated. In future, it will be treated as `np.float64 == np.dtype(float).type`.\n",
      "  from ._conv import register_converters as _register_converters\n",
      "Using TensorFlow backend.\n"
     ]
    }
   ],
   "source": [
    "import keras\n",
    "from keras.layers import Dense, Conv2D, BatchNormalization, Activation\n",
    "from keras.layers import AveragePooling2D, Input, Flatten\n",
    "from keras.optimizers import Adam\n",
    "from keras.regularizers import l2\n",
    "from keras import backend as K\n",
    "from keras.models import Model\n",
    "from keras.datasets import cifar10\n",
    "from keras.utils.np_utils import to_categorical\n",
    "from keras.callbacks import ModelCheckpoint, LearningRateScheduler\n",
    "from keras.callbacks import ReduceLROnPlateau\n",
    "import numpy as np\n",
    "import time\n",
    "import os\n",
    "from keras.preprocessing.image import ImageDataGenerator"
   ]
  },
  {
   "cell_type": "code",
   "execution_count": 2,
   "metadata": {},
   "outputs": [],
   "source": [
    "def load_data(path='./fer2013/fer2013.csv'):\n",
    "    a=time.time()\n",
    "    Y = []\n",
    "    X = []\n",
    "    first = True\n",
    "    for line in open(path):\n",
    "        if first:\n",
    "            first = False\n",
    "        else:\n",
    "            row = line.split(',')\n",
    "            Y.append(int(row[0]))\n",
    "            X.append([int(p) for p in row[1].split()])\n",
    "    X, Y = np.array(X), np.array(Y)\n",
    "    b=time.time()\n",
    "    print(\"cost-time is\"+str(b-a)+\"s\")\n",
    "    Y[Y>0]=Y[Y>0]-1\n",
    "    Y = to_categorical(Y)\n",
    "    X=X.reshape([-1,48,48,1])\n",
    "    X = X / 255.\n",
    "    train_x=X[0:33000]\n",
    "    train_y=Y[0:33000]\n",
    "    test_x=X[33000:35887]\n",
    "    test_y=Y[33000:35887]\n",
    "    return train_x,train_y,test_x,test_y"
   ]
  },
  {
   "cell_type": "code",
   "execution_count": 3,
   "metadata": {},
   "outputs": [
    {
     "name": "stdout",
     "output_type": "stream",
     "text": [
      "cost-time is24.395395278930664s\n",
      "(33000, 48, 48, 1)\n"
     ]
    }
   ],
   "source": [
    "x_train, y_train, x_test, y_test= load_data()\n",
    "print(x_train.shape)"
   ]
  },
  {
   "cell_type": "code",
   "execution_count": 4,
   "metadata": {},
   "outputs": [],
   "source": [
    "#ResNet Block\n",
    "def resnet_block(inputs,num_filters=16,\n",
    "                  kernel_size=3,strides=1,\n",
    "                  activation='relu'):\n",
    "    x = Conv2D(num_filters,kernel_size=kernel_size,strides=strides,padding='same',\n",
    "           kernel_initializer='he_normal',kernel_regularizer=l2(1e-4))(inputs)\n",
    "    x = BatchNormalization()(x)\n",
    "    if(activation):\n",
    "        x = Activation('relu')(x)\n",
    "    return x"
   ]
  },
  {
   "cell_type": "code",
   "execution_count": 5,
   "metadata": {},
   "outputs": [],
   "source": [
    "# 建一个20层的ResNet网络 \n",
    "def resnet_v1(input_shape):\n",
    "    inputs = Input(shape=input_shape)# Input层，用来当做占位使用\n",
    "\n",
    "    #第一层\n",
    "    x = resnet_block(inputs)\n",
    "    print('layer1,xshape:',x.shape)\n",
    "    # 第2~7层\n",
    "    for i in range(6):\n",
    "        a = resnet_block(inputs = x)\n",
    "        b = resnet_block(inputs=a,activation=None)\n",
    "        x = keras.layers.add([x,b])\n",
    "        x = Activation('relu')(x)\n",
    "    # out：32*32*16\n",
    "    # 第8~13层\n",
    "    for i in range(6):\n",
    "        if i == 0:\n",
    "            a = resnet_block(inputs = x,strides=2,num_filters=32)\n",
    "        else:\n",
    "            a = resnet_block(inputs = x,num_filters=32)\n",
    "        b = resnet_block(inputs=a,activation=None,num_filters=32)\n",
    "        if i==0:\n",
    "            x = Conv2D(32,kernel_size=3,strides=2,padding='same',\n",
    "                       kernel_initializer='he_normal',kernel_regularizer=l2(1e-4))(x)\n",
    "        x = keras.layers.add([x,b])\n",
    "        x = Activation('relu')(x)\n",
    "    # out:16*16*32\n",
    "    # 第14~19层\n",
    "    for i in range(6):\n",
    "        if i ==0 :\n",
    "            a = resnet_block(inputs = x,strides=2,num_filters=64)\n",
    "        else:\n",
    "            a = resnet_block(inputs = x,num_filters=64)\n",
    "\n",
    "        b = resnet_block(inputs=a,activation=None,num_filters=64)\n",
    "        if i == 0:\n",
    "            x = Conv2D(64,kernel_size=3,strides=2,padding='same',\n",
    "                       kernel_initializer='he_normal',kernel_regularizer=l2(1e-4))(x)\n",
    "        x = keras.layers.add([x,b])# 相加操作，要求x、b shape完全一致\n",
    "        x = Activation('relu')(x)\n",
    "    # out:8*8*64\n",
    "    # 第20层   \n",
    "    x = AveragePooling2D(pool_size=2)(x)\n",
    "    # out:4*4*64\n",
    "    y = Flatten()(x)\n",
    "    # out:1024\n",
    "    outputs = Dense(6,activation='softmax',\n",
    "                    kernel_initializer='he_normal')(y)\n",
    "\n",
    "    #初始化模型\n",
    "    #之前的操作只是将多个神经网络层进行了相连，通过下面这一句的初始化操作，才算真正完成了一个模型的结构初始化\n",
    "    model = Model(inputs=inputs,outputs=outputs)\n",
    "    return model"
   ]
  },
  {
   "cell_type": "code",
   "execution_count": 6,
   "metadata": {},
   "outputs": [
    {
     "name": "stdout",
     "output_type": "stream",
     "text": [
      "layer1,xshape: (?, 48, 48, 16)\n"
     ]
    }
   ],
   "source": [
    "model = resnet_v1((48,48,1))\n",
    "\n",
    "model.compile(loss='categorical_crossentropy',\n",
    "optimizer=Adam(),\n",
    "metrics=['accuracy'])\n",
    "\n",
    "#model.summary()"
   ]
  },
  {
   "cell_type": "code",
   "execution_count": 7,
   "metadata": {},
   "outputs": [],
   "source": [
    "checkpoint = ModelCheckpoint(filepath='./resnet_ckpt.h5',monitor='val_acc',\n",
    "                             verbose=1,save_best_only=True)\n",
    "def lr_sch(epoch):\n",
    "    #200 total\n",
    "    if epoch <50:\n",
    "        return 1e-3\n",
    "    if 50<=epoch<100:\n",
    "        return 1e-4\n",
    "    if epoch>=100:\n",
    "        return 1e-5\n",
    "lr_scheduler = LearningRateScheduler(lr_sch)\n",
    "lr_reducer = ReduceLROnPlateau(monitor='val_acc',factor=0.2,patience=5,\n",
    "                               mode='max',min_lr=1e-3)\n",
    "callbacks = [checkpoint,lr_scheduler,lr_reducer]"
   ]
  },
  {
   "cell_type": "code",
   "execution_count": 8,
   "metadata": {},
   "outputs": [],
   "source": [
    "#model.fit(x_train,y_train,batch_size=128,epochs=2,validation_data=(x_test,y_test),verbose=1,callbacks=callbacks)"
   ]
  },
  {
   "cell_type": "code",
   "execution_count": 9,
   "metadata": {},
   "outputs": [],
   "source": [
    "datagen = ImageDataGenerator(\n",
    "    rotation_range = 10,\n",
    "    width_shift_range=0.03,\n",
    "    height_shift_range=0.03,\n",
    "    zoom_range = 0.05,\n",
    "    horizontal_flip = True,\n",
    ")"
   ]
  },
  {
   "cell_type": "code",
   "execution_count": 10,
   "metadata": {},
   "outputs": [],
   "source": [
    "#model.fit_generator(datagen.flow(x_train,y_train,batch_size=64,save_to_dir='./datagen'),steps_per_epoch = 10,epochs = 1,validation_data=(x_test,y_test),workers=4,verbose=1,callbacks=callbacks)"
   ]
  },
  {
   "cell_type": "code",
   "execution_count": 31,
   "metadata": {},
   "outputs": [],
   "source": [
    "batches = 0\n",
    "\n",
    "for x,y in datagen.flow(x_train,y_train,batch_size=1000):\n",
    "    batches += 1\n",
    "    if batches >= 0:\n",
    "        break\n",
    "batches = 0\n",
    "for x_batch,y_batch in datagen.flow(x_train,y_train,batch_size=100000):\n",
    "    batches += 1\n",
    "    x=np.concatenate((x,x_batch), axis=0)\n",
    "    y=np.concatenate((y,y_batch), axis=0)\n",
    "    if batches >= 3:\n",
    "        break        "
   ]
  },
  {
   "cell_type": "code",
   "execution_count": 32,
   "metadata": {},
   "outputs": [
    {
     "name": "stdout",
     "output_type": "stream",
     "text": [
      "(100000, 48, 48, 1)\n"
     ]
    }
   ],
   "source": [
    "print(x.shape)"
   ]
  },
  {
   "cell_type": "code",
   "execution_count": 34,
   "metadata": {},
   "outputs": [
    {
     "ename": "AttributeError",
     "evalue": "'numpy.ndarray' object has no attribute 'save'",
     "output_type": "error",
     "traceback": [
      "\u001b[1;31m---------------------------------------------------------------------------\u001b[0m",
      "\u001b[1;31mAttributeError\u001b[0m                            Traceback (most recent call last)",
      "\u001b[1;32m<ipython-input-34-40fb4162a29b>\u001b[0m in \u001b[0;36m<module>\u001b[1;34m()\u001b[0m\n\u001b[1;32m----> 1\u001b[1;33m \u001b[0mx\u001b[0m\u001b[1;33m.\u001b[0m\u001b[0msave\u001b[0m\u001b[1;33m(\u001b[0m\u001b[1;34m\"x_train\"\u001b[0m\u001b[1;33m)\u001b[0m\u001b[1;33m\u001b[0m\u001b[0m\n\u001b[0m\u001b[0;32m      2\u001b[0m \u001b[0my\u001b[0m\u001b[1;33m.\u001b[0m\u001b[0msave\u001b[0m\u001b[1;33m(\u001b[0m\u001b[1;34m\"y_train\"\u001b[0m\u001b[1;33m)\u001b[0m\u001b[1;33m\u001b[0m\u001b[0m\n",
      "\u001b[1;31mAttributeError\u001b[0m: 'numpy.ndarray' object has no attribute 'save'"
     ]
    }
   ],
   "source": [
    "x.save(\"x_train\")\n",
    "np.save(\"x_train.npy\", x)\n",
    "y.save(\"y_train\")"
   ]
  },
  {
   "cell_type": "code",
   "execution_count": null,
   "metadata": {},
   "outputs": [],
   "source": [
    "int max(int start int end)\n",
    "{\n",
    "    if(start==end)\n",
    "    {\n",
    "        if(num[start]%==0)\n",
    "        return num[start]\n",
    "        else return -1;\n",
    "    }\n",
    "    else\n",
    "    {\n",
    "        a=max(start,(end+start)/2)\n",
    "        b=max(start,(end+start)/2)\n",
    "        if(a>b)return a\n",
    "        if(a<b)return b\n",
    "        if(a==b==-1) return -1\n",
    "        if(a==b) return a\n",
    "    }\n",
    "    \n",
    "}"
   ]
  }
 ],
 "metadata": {
  "kernelspec": {
   "display_name": "Python 3",
   "language": "python",
   "name": "python3"
  },
  "language_info": {
   "codemirror_mode": {
    "name": "ipython",
    "version": 3
   },
   "file_extension": ".py",
   "mimetype": "text/x-python",
   "name": "python",
   "nbconvert_exporter": "python",
   "pygments_lexer": "ipython3",
   "version": "3.6.4"
  }
 },
 "nbformat": 4,
 "nbformat_minor": 2
}
